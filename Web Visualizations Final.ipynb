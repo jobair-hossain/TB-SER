{
 "cells": [
  {
   "cell_type": "code",
   "execution_count": 1,
   "id": "f5205d42",
   "metadata": {},
   "outputs": [],
   "source": [
    "!pip install -q dtale "
   ]
  },
  {
   "cell_type": "code",
   "execution_count": 2,
   "id": "3763b32c",
   "metadata": {},
   "outputs": [],
   "source": [
    "import pandas as pd  \n",
    "import dtale"
   ]
  },
  {
   "cell_type": "markdown",
   "id": "f781aff9",
   "metadata": {},
   "source": [
    "change path to file containing Emotion labels - here \"final_dataframe.xlsx\""
   ]
  },
  {
   "cell_type": "code",
   "execution_count": 3,
   "id": "60500a3f",
   "metadata": {},
   "outputs": [
    {
     "data": {
      "text/html": [
       "<div>\n",
       "<style scoped>\n",
       "    .dataframe tbody tr th:only-of-type {\n",
       "        vertical-align: middle;\n",
       "    }\n",
       "\n",
       "    .dataframe tbody tr th {\n",
       "        vertical-align: top;\n",
       "    }\n",
       "\n",
       "    .dataframe thead th {\n",
       "        text-align: right;\n",
       "    }\n",
       "</style>\n",
       "<table border=\"1\" class=\"dataframe\">\n",
       "  <thead>\n",
       "    <tr style=\"text-align: right;\">\n",
       "      <th></th>\n",
       "      <th>Filenames</th>\n",
       "      <th>Texts</th>\n",
       "      <th>Emotions_T5</th>\n",
       "      <th>Confidence_T5</th>\n",
       "      <th>Emotions_BERT</th>\n",
       "      <th>Confidence_BERT</th>\n",
       "      <th>Emotions_XLNet</th>\n",
       "      <th>Confidence_XLNet</th>\n",
       "    </tr>\n",
       "  </thead>\n",
       "  <tbody>\n",
       "    <tr>\n",
       "      <th>0</th>\n",
       "      <td>Audio A</td>\n",
       "      <td>Good morning, scholars. Good morning, everyone...</td>\n",
       "      <td>happiness</td>\n",
       "      <td>0.994398</td>\n",
       "      <td>fear</td>\n",
       "      <td>0.653691</td>\n",
       "      <td>negetive</td>\n",
       "      <td>0.341949</td>\n",
       "    </tr>\n",
       "    <tr>\n",
       "      <th>1</th>\n",
       "      <td>Audio A</td>\n",
       "      <td>hero. This is a figure that I think is a lot m...</td>\n",
       "      <td>happiness</td>\n",
       "      <td>0.996805</td>\n",
       "      <td>happiness</td>\n",
       "      <td>0.440502</td>\n",
       "      <td>negetive</td>\n",
       "      <td>0.064805</td>\n",
       "    </tr>\n",
       "    <tr>\n",
       "      <th>2</th>\n",
       "      <td>Audio A</td>\n",
       "      <td>come back from that. The only thing about his ...</td>\n",
       "      <td>happiness</td>\n",
       "      <td>0.983622</td>\n",
       "      <td>surprise</td>\n",
       "      <td>0.660798</td>\n",
       "      <td>negetive</td>\n",
       "      <td>-0.013817</td>\n",
       "    </tr>\n",
       "    <tr>\n",
       "      <th>3</th>\n",
       "      <td>Audio A</td>\n",
       "      <td>It's a little bit of a serious book. You got t...</td>\n",
       "      <td>sadness</td>\n",
       "      <td>0.984522</td>\n",
       "      <td>anger</td>\n",
       "      <td>0.929814</td>\n",
       "      <td>positive</td>\n",
       "      <td>0.259593</td>\n",
       "    </tr>\n",
       "    <tr>\n",
       "      <th>4</th>\n",
       "      <td>Audio A</td>\n",
       "      <td>the Zook and the Dauphin. Probably the goofbal...</td>\n",
       "      <td>happiness</td>\n",
       "      <td>0.970010</td>\n",
       "      <td>happiness</td>\n",
       "      <td>0.747194</td>\n",
       "      <td>positive</td>\n",
       "      <td>0.064780</td>\n",
       "    </tr>\n",
       "  </tbody>\n",
       "</table>\n",
       "</div>"
      ],
      "text/plain": [
       "  Filenames                                              Texts Emotions_T5  \\\n",
       "0   Audio A  Good morning, scholars. Good morning, everyone...   happiness   \n",
       "1   Audio A  hero. This is a figure that I think is a lot m...   happiness   \n",
       "2   Audio A  come back from that. The only thing about his ...   happiness   \n",
       "3   Audio A  It's a little bit of a serious book. You got t...     sadness   \n",
       "4   Audio A  the Zook and the Dauphin. Probably the goofbal...   happiness   \n",
       "\n",
       "   Confidence_T5 Emotions_BERT  Confidence_BERT Emotions_XLNet  \\\n",
       "0       0.994398          fear         0.653691       negetive   \n",
       "1       0.996805     happiness         0.440502       negetive   \n",
       "2       0.983622      surprise         0.660798       negetive   \n",
       "3       0.984522         anger         0.929814       positive   \n",
       "4       0.970010     happiness         0.747194       positive   \n",
       "\n",
       "   Confidence_XLNet  \n",
       "0          0.341949  \n",
       "1          0.064805  \n",
       "2         -0.013817  \n",
       "3          0.259593  \n",
       "4          0.064780  "
      ]
     },
     "execution_count": 3,
     "metadata": {},
     "output_type": "execute_result"
    }
   ],
   "source": [
    "path = \"/Users/jobairhossain/Jobair-Main/Education/Kennesaw/Study at KSU/PhD CS/Spring 2023/Depth Examination/NLP Model/NewDatasetTranscription/NDfinal_dataframe.xlsx\"\n",
    "\n",
    "df = pd.read_excel(path)\n",
    "df.head()"
   ]
  },
  {
   "cell_type": "code",
   "execution_count": 4,
   "id": "82935de3",
   "metadata": {},
   "outputs": [
    {
     "name": "stdout",
     "output_type": "stream",
     "text": [
      "Data : 1 - URL : http://localhost:40000\n",
      "To gain access to an instance object simply pass the value from 'ID' to dtale.get_instance(ID)\n",
      "\n",
      "ID Name                                 URL\n",
      " 1      http://localhost:40000/dtale/main/1\n",
      "        http://localhost:40000/dtale/main/1\n"
     ]
    },
    {
     "name": "stderr",
     "output_type": "stream",
     "text": [
      "/Users/jobairhossain/opt/anaconda3/lib/python3.9/site-packages/dtale/charts/utils.py:642: FutureWarning:\n",
      "\n",
      "Dropping invalid columns in DataFrameGroupBy.mean is deprecated. In a future version, a TypeError will be raised. Before calling .mean, select only columns which should be valid for the function.\n",
      "\n",
      "2023-04-26 01:51:24,242 - INFO     - Executing shutdown due to inactivity...\n",
      "2023-04-26 01:51:24,781 - INFO     - Executing shutdown...\n",
      "/Users/jobairhossain/opt/anaconda3/lib/python3.9/site-packages/dtale/app.py:422: UserWarning:\n",
      "\n",
      "The 'environ['werkzeug.server.shutdown']' function is deprecated and will be removed in Werkzeug 2.1.\n",
      "\n"
     ]
    }
   ],
   "source": [
    "d = dtale.show(df,host='localhost')\n",
    "d.open_browser()\n",
    "print(f\"Data : {d._data_id} - URL : {d._url}\")\n",
    "d2 = dtale.get_instance(d._data_id) \n",
    "dtale.instances() \n"
   ]
  },
  {
   "cell_type": "code",
   "execution_count": 5,
   "id": "fb4fae95",
   "metadata": {},
   "outputs": [],
   "source": [
    "d.kill()"
   ]
  },
  {
   "cell_type": "code",
   "execution_count": 1,
   "id": "c7ca014a",
   "metadata": {},
   "outputs": [],
   "source": [
    "#"
   ]
  }
 ],
 "metadata": {
  "kernelspec": {
   "display_name": "Python 3 (ipykernel)",
   "language": "python",
   "name": "python3"
  },
  "language_info": {
   "codemirror_mode": {
    "name": "ipython",
    "version": 3
   },
   "file_extension": ".py",
   "mimetype": "text/x-python",
   "name": "python",
   "nbconvert_exporter": "python",
   "pygments_lexer": "ipython3",
   "version": "3.9.12"
  }
 },
 "nbformat": 4,
 "nbformat_minor": 5
}
