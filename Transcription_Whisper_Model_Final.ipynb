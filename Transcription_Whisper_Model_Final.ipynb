{
  "cells": [
    {
      "cell_type": "code",
      "source": [
        "# Import the necessary libraries and install packages\n",
        "!pip install -q git+https://github.com/openai/whisper.git > /dev/null\n",
        "\n",
        "import shutil,os\n",
        "import subprocess\n",
        "import random,torch\n",
        "import whisper\n",
        "\n",
        "torch.manual_seed(42)\n",
        "random.seed(42)"
      ],
      "metadata": {
        "id": "Ti2a8kJkYb8U"
      },
      "execution_count": 1,
      "outputs": []
    },
    {
      "cell_type": "code",
      "execution_count": 2,
      "metadata": {
        "id": "Vdbad9x5CHkC",
        "colab": {
          "base_uri": "https://localhost:8080/"
        },
        "outputId": "86f63528-a2fb-404a-d8c0-89af11774ee7"
      },
      "outputs": [
        {
          "output_type": "stream",
          "name": "stderr",
          "text": [
            "100%|██████████████████████████████████████| 1.42G/1.42G [00:12<00:00, 120MiB/s]\n"
          ]
        }
      ],
      "source": [
        "model_size = \"medium\"     # ['tiny', 'base', 'small', 'medium', 'large']\n",
        "language = \"English\"      # ['any', 'English']\n",
        "\n",
        "model_name = model_size\n",
        "if language == 'English' and model_size != 'medium':\n",
        "  model_name += '.en'\n",
        "\n",
        "model = whisper.load_model(model_size)"
      ]
    },
    {
      "cell_type": "code",
      "execution_count": 3,
      "metadata": {
        "colab": {
          "base_uri": "https://localhost:8080/"
        },
        "id": "IxYITgmGfR9p",
        "outputId": "a15ceff7-63ff-4fd7-dbdc-ff2e8351ccf7"
      },
      "outputs": [
        {
          "output_type": "stream",
          "name": "stdout",
          "text": [
            "Mounted at /content/drive\n"
          ]
        }
      ],
      "source": [
        "# upload audio file\n",
        "from google.colab import drive\n",
        "drive.mount('/content/drive')"
      ]
    },
    {
      "cell_type": "code",
      "source": [
        "def generate_transcript(path):\n",
        "\n",
        "  shutil.copy(path,os.getcwd())\n",
        "  path = path.split(\"/\")[-1]\n",
        "  filename = path[:-4].split(' ')\n",
        "  if len(filename)==1:\n",
        "    filename = filename[0]\n",
        "  else:\n",
        "    filename=f\"{filename[0]}{filename[1]}\"\n",
        "  \n",
        "  if path[-3:] != 'wav':\n",
        "    subprocess.call(['ffmpeg', '-i', path, 'audio.wav', '-y'])\n",
        "    os.remove(path)\n",
        "    path = 'audio.wav'\n",
        "\n",
        "  print(\"File conversion - Done,Now Transcribing\")\n",
        "\n",
        "  result = model.transcribe(path)\n",
        "  segments = result[\"segments\"]\n",
        "\n",
        "  f = open(f\"{filename}.txt\", \"w\")\n",
        "\n",
        "  text = \"\"\n",
        "\n",
        "  # Iterate through the segments and write the transcribed text to the text file\n",
        "  for (i, segment) in enumerate(segments):\n",
        "      try:\n",
        "        f.write(segment[\"text\"][1:] + '\\n\\n') \n",
        "      except:\n",
        "        continue\n",
        "  f.close()\n",
        "\n",
        "  print(f\"Transcription - Done,check {filename}.txt\")\n"
      ],
      "metadata": {
        "id": "kwlvteAdhlaI"
      },
      "execution_count": 4,
      "outputs": []
    },
    {
      "cell_type": "code",
      "execution_count": 5,
      "metadata": {
        "colab": {
          "base_uri": "https://localhost:8080/"
        },
        "id": "usQbmQ6zmkTv",
        "outputId": "22dc5b04-7f14-4b3e-c64e-f18165f76f0a"
      },
      "outputs": [
        {
          "output_type": "stream",
          "name": "stdout",
          "text": [
            "File conversion - Done,Now Transcribing\n",
            "Transcription - Done,check AudioG.txt\n"
          ]
        }
      ],
      "source": [
        "\n",
        "path = \"/content/drive/MyDrive/Audio/Audio G.wav\"\n",
        "\n",
        "generate_transcript(path)"
      ]
    }
  ],
  "metadata": {
    "accelerator": "GPU",
    "colab": {
      "provenance": []
    },
    "gpuClass": "standard",
    "kernelspec": {
      "display_name": "Python 3 (ipykernel)",
      "language": "python",
      "name": "python3"
    },
    "language_info": {
      "codemirror_mode": {
        "name": "ipython",
        "version": 3
      },
      "file_extension": ".py",
      "mimetype": "text/x-python",
      "name": "python",
      "nbconvert_exporter": "python",
      "pygments_lexer": "ipython3",
      "version": "3.10.10"
    }
  },
  "nbformat": 4,
  "nbformat_minor": 0
}